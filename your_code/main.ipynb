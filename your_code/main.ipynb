{
 "cells": [
  {
   "cell_type": "code",
   "execution_count": 46,
   "metadata": {},
   "outputs": [],
   "source": [
    "import numpy as np\n",
    "import math\n",
    "import pandas as pd\n",
    "import matplotlib.pyplot as plt\n",
    "\n",
    "from scipy.stats import uniform\n",
    "from scipy.stats import norm\n",
    "from scipy.stats import expon\n",
    "from scipy.stats import poisson\n",
    "from scipy import stats\n",
    "from scipy.stats import binom"
   ]
  },
  {
   "cell_type": "markdown",
   "metadata": {},
   "source": [
    "## Question 1\n",
    "The following table indicates the number of 6-point scores in an American rugby match in the 1979 season.\n",
    "\n",
    "![](table1.png)\n",
    "\n",
    "Based on these results, we create a Poisson distribution with the sample mean parameter  = 2.435. Is there any reason to believe that at a .05 level the number of scores is a Poisson variable?"
   ]
  },
  {
   "cell_type": "code",
   "execution_count": 34,
   "metadata": {},
   "outputs": [
    {
     "data": {
      "text/plain": [
       "array([0.08759775, 0.21330051, 0.25969338, 0.21078446, 0.12831504,\n",
       "       0.06248942, 0.02536029, 0.00882176])"
      ]
     },
     "execution_count": 34,
     "metadata": {},
     "output_type": "execute_result"
    }
   ],
   "source": [
    "# your answer here\n",
    "\n",
    "mu = 2.435\n",
    "observed = np.array([35, 99, 104, 110, 62, 25, 10, 3])/480\n",
    "expected = np.array([poisson.pmf(x, mu) for x in range(0, 8)])\n",
    "expected\n",
    "\n",
    "stats.chisquare(observed, f_exp=expected)\n",
    "\n",
    "#The p is almost 1 so we can say that the values are similar."
   ]
  },
  {
   "cell_type": "markdown",
   "metadata": {},
   "source": [
    "## Question 2\n",
    "The following are the ordered values of a random sample of SAT scores (university entrance exam) for several students: 852, 875, 910, 933, 957, 963, 981, 998, 1010, 1015, 1018, 1023, 1035, 1048, 1063. In previous years, the scores were presented by N (985,50). Based on the sample, is there any reason to believe that there has been a change in the distribution of scores this year? Use the level alpha = 0.05. "
   ]
  },
  {
   "cell_type": "code",
   "execution_count": 40,
   "metadata": {},
   "outputs": [
    {
     "data": {
      "text/plain": [
       "KstestResult(statistic=0.1581291279406798, pvalue=0.847406396427736)"
      ]
     },
     "execution_count": 40,
     "metadata": {},
     "output_type": "execute_result"
    }
   ],
   "source": [
    "#your answer here\n",
    "observed_SAT= np.array([852, 875, 910, 933, 957, 963, 981, 998, 1010, 1015, 1018, 1023, 1035, 1048, 1063])\n",
    "\n",
    "expected_SAT = stats.norm(985, 50) \n",
    "\n",
    "stats.kstest(observed_SAT, expected_SAT.cdf)\n",
    "\n",
    "#The p-value is <0.05 so the results did not change this year."
   ]
  },
  {
   "cell_type": "markdown",
   "metadata": {},
   "source": [
    "## Question 3\n",
    "Let's analyze a discrete distribution. To analyze the number of defective items in a factory in the city of Medellín, we took a random sample of n = 60 articles and observed the number of defectives in the following table:\n",
    "\n",
    "![](table4.png)\n",
    "\n",
    "A poissón distribution was proposed since it is defined for x = 0,1,2,3, .... using the following model:\n",
    "\n",
    "![](image1.png)\n",
    "\n",
    "Does the distribution of defective items follow this distribution?"
   ]
  },
  {
   "cell_type": "code",
   "execution_count": 43,
   "metadata": {},
   "outputs": [
    {
     "data": {
      "text/plain": [
       "Power_divergenceResult(statistic=1397.2842009719284, pvalue=2.6820499920251742e-301)"
      ]
     },
     "execution_count": 43,
     "metadata": {},
     "output_type": "execute_result"
    }
   ],
   "source": [
    "# your code here\n",
    "\n",
    "\n",
    "\n",
    "observed_def = np.array([32, 15, 9, 4, 60])/60\n",
    "mu = np.mean(observed_def)\n",
    "expected_def = np.array([poisson.pmf(x, mu) for x in range(0, 5)])\n",
    "expected_def\n",
    "\n",
    "stats.chisquare(observed_def, f_exp=expected_def)\n",
    "\n",
    "#The null hypotesis is discard so the poison is not a good model."
   ]
  },
  {
   "cell_type": "markdown",
   "metadata": {},
   "source": [
    "## Question 4\n",
    "A quality control engineer takes a sample of 10 tires that come out of an assembly line, and would like to verify on the basis of the data that follows, if the number of tires with defects observed over 200 days, if it is true that 5% of all tires have defects (that is, if the sample comes from a binomial population with n = 10 and p = 0.05). \n",
    "\n",
    "![](table6.png)\n"
   ]
  },
  {
   "cell_type": "code",
   "execution_count": 56,
   "metadata": {},
   "outputs": [
    {
     "data": {
      "text/plain": [
       "KstestResult(statistic=0.9999999999999023, pvalue=1.8651282560163315e-39)"
      ]
     },
     "execution_count": 56,
     "metadata": {},
     "output_type": "execute_result"
    }
   ],
   "source": [
    "# your answer here\n",
    "#H0 is that the percentage of deffect is > 5%\n",
    "\n",
    "n = 10\n",
    "p = 0.05\n",
    "\n",
    "observed_tir = np.array([138, 53, 9])\n",
    "expected_tir = binom(n,p) \n",
    "\n",
    "\n",
    "stats.kstest(observed_tir, expected_tir.cdf)\n",
    "\n",
    "#The hypotesis is rejected."
   ]
  },
  {
   "cell_type": "markdown",
   "metadata": {},
   "source": [
    "## Question 5\n",
    "A researcher gathers information about the patterns of physical activity (AF) of children in the fifth grade of primary school of a public school. He defines three categories of physical activity (1 = Low, 2 = Medium, 3 = High). He also inquires about the regular consumption of sugary drinks at school, and defines two categories (1 = consumed, 0 = not consumed). We would like to evaluate if there is an association between patterns of physical activity and the consumption of sugary drinks for the children of this school, at a level of 5% significance. The results are in the following table: \n",
    "\n",
    "![](table5.png)"
   ]
  },
  {
   "cell_type": "code",
   "execution_count": 81,
   "metadata": {},
   "outputs": [
    {
     "name": "stdout",
     "output_type": "stream",
     "text": [
      "Null hypothesis can't be rejected\n"
     ]
    }
   ],
   "source": [
    "#your answer here\n",
    "observed_t = np.array([32, 12, 14, 22, 6, 9])\n",
    "\n",
    "rows_sum = np.array([44, 36, 15])\n",
    "cols_sum = np.array([52, 43])\n",
    "total = 95\n",
    "\n",
    "expected_t = []\n",
    "for j in range(3):\n",
    "    for i in cols_sum:\n",
    "        expected_t.append(i*rows_sum[j]/total)\n",
    "expected_t\n",
    "\n",
    "chi_squared_statistic = ((observed_t - expected_t)**2/expected_t).sum()\n",
    "chi_squared_statistic\n",
    "\n",
    "dof = 95-1\n",
    "alpha = 0.05\n",
    "\n",
    "critical_value = stats.chi2.ppf(q = 1 - alpha, df = dof)\n",
    "print(\"Null hypothesis rejected\") if critical_value < chi_squared_statistic else print(\"Null hypothesis can't be rejected\")"
   ]
  },
  {
   "cell_type": "code",
   "execution_count": null,
   "metadata": {},
   "outputs": [],
   "source": []
  }
 ],
 "metadata": {
  "kernelspec": {
   "display_name": "Python 3",
   "language": "python",
   "name": "python3"
  },
  "language_info": {
   "codemirror_mode": {
    "name": "ipython",
    "version": 3
   },
   "file_extension": ".py",
   "mimetype": "text/x-python",
   "name": "python",
   "nbconvert_exporter": "python",
   "pygments_lexer": "ipython3",
   "version": "3.7.3"
  }
 },
 "nbformat": 4,
 "nbformat_minor": 2
}
